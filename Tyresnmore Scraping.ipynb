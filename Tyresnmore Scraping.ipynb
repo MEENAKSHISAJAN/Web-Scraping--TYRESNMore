{
 "cells": [
  {
   "cell_type": "code",
   "execution_count": 1,
   "id": "e4df98c9",
   "metadata": {},
   "outputs": [],
   "source": [
    "#import libraries\n",
    "import selenium\n",
    "from selenium import webdriver\n",
    "from selenium.webdriver.common.by import By\n",
    "from selenium.webdriver.common.keys import Keys\n",
    "import pandas as pd\n",
    "import numpy as np"
   ]
  },
  {
   "cell_type": "code",
   "execution_count": 2,
   "id": "bbc70c7e",
   "metadata": {},
   "outputs": [
    {
     "name": "stderr",
     "output_type": "stream",
     "text": [
      "C:\\Users\\meenu\\AppData\\Local\\Temp\\ipykernel_10236\\4000343727.py:2: DeprecationWarning: executable_path has been deprecated, please pass in a Service object\n",
      "  driver = webdriver.Chrome('/Users/meenu/Downloads/chromedriver')\n"
     ]
    }
   ],
   "source": [
    "#access the webdriver\n",
    "driver = webdriver.Chrome('/Users/meenu/Downloads/chromedriver')\n",
    "driver=webdriver.Chrome()\n"
   ]
  },
  {
   "cell_type": "code",
   "execution_count": 3,
   "id": "189010a1",
   "metadata": {},
   "outputs": [],
   "source": [
    "# create empty lists to store the data\n",
    "product = []\n",
    "company_name = []\n",
    "features = []\n",
    "price = []"
   ]
  },
  {
   "cell_type": "code",
   "execution_count": 4,
   "id": "6fda6796",
   "metadata": {
    "scrolled": true
   },
   "outputs": [
    {
     "name": "stdout",
     "output_type": "stream",
     "text": [
      "        Company                                            Product  \\\n",
      "0          CEAT               CEAT 205/65 R15 MILAZE X3 94S TL TWI   \n",
      "1      Goodyear  Goodyear 205/65 R15 Assurance Duraplus 2 99H T...   \n",
      "2      Goodyear  Goodyear 265/65 R17 Wrangler AT/ST 112S Tubele...   \n",
      "3      YOKOHAMA  YOKOHAMA 205/65 R16 EARTH-1 95H TUBELESS CAR TYRE   \n",
      "4      YOKOHAMA  YOKOHAMA 205/65 R15 EARTH-1 94H TUBELESS CAR TYRE   \n",
      "5      YOKOHAMA  YOKOHAMA 265/65 R17 GEOLANDAR G015 112H TUBELE...   \n",
      "6         Kelly       Kelly 205/65 R15 VFM 6 94H Tubeless Car Tyre   \n",
      "7     ULTRAMILE  ULTRAMILE 205/65 R15 UM551 BSW 94H TUBELESS CA...   \n",
      "8        Apollo   Apollo 205/65 R15 ALNAC 4G 94H Tubeless Car Tyre   \n",
      "9        Apollo  Apollo 205/65 R15 AMAZER 4G LIFE 94T Tubeless ...   \n",
      "10          MRF                        MRF 205/65 R15 ZTX-S 94H TL   \n",
      "11      PIRELLI    PIRELLI 205/65 R15 P6 CIN 94V TUBELESS CAR TYRE   \n",
      "12  Bridgestone                 BRIDGESTONE 205/65 R15 B390 94S TL   \n",
      "13  Bridgestone   Bridgestone 205/65 R16 DHP 95H Tubeless Car Tyre   \n",
      "14  Bridgestone  Bridgestone 205/65 R15 B390 94H TubeType Car Tyre   \n",
      "15           JK  JK 205/65 R16 UX ROYALE 95H SMART TYRE WITH SE...   \n",
      "16     Michelin        Michelin Primacy 4ST 215/55R17 Tubeless 94V   \n",
      "17  CONTINENTAL     CONTINENTAL 205/65 R15 ULTRACONTACT UC6 94V TL   \n",
      "\n",
      "    Excellent braking  All terrian  Long life  Low noise  Smooth ride  \\\n",
      "0                   1          0.0          0          0            1   \n",
      "1                   0          0.0          1          1            0   \n",
      "2                   1          1.0          0          1            0   \n",
      "3                   1          0.0          0          1            1   \n",
      "4                   1          0.0          0          0            1   \n",
      "5                   0          1.0          0          1            1   \n",
      "6                   1          0.0          1          0            0   \n",
      "7                   1          0.0          0          0            1   \n",
      "8                   1          0.0          0          0            0   \n",
      "9                   1          0.0          1          0            0   \n",
      "10                  1          0.0          0          1            0   \n",
      "11                  1          0.0          1          0            1   \n",
      "12                  1          0.0          0          1            0   \n",
      "13                  1          0.0          0          1            0   \n",
      "14                  1          0.0          0          1            0   \n",
      "15                  1          0.0          0          0            0   \n",
      "16                  1          0.0          0          0            0   \n",
      "17                  1          0.0          0          1            0   \n",
      "\n",
      "    Highly stable  Excellent Dry & Wet Grip       Price  Fuel efficient  \n",
      "0               1                         0   ₹5,899.00             0.0  \n",
      "1               0                         0   ₹6,299.00             0.0  \n",
      "2               0                         0  ₹12,099.00             0.0  \n",
      "3               0                         0   ₹7,750.00             0.0  \n",
      "4               1                         0   ₹7,560.00             0.0  \n",
      "5               0                         0  ₹14,440.00             0.0  \n",
      "6               1                         0   ₹4,899.00             0.0  \n",
      "7               1                         0   ₹5,599.00             0.0  \n",
      "8               1                         1   ₹6,649.00             0.0  \n",
      "9               0                         1   ₹7,349.00             0.0  \n",
      "10              0                         1   ₹6,510.00             0.0  \n",
      "11              0                         0   ₹6,399.00             0.0  \n",
      "12              0                         0   ₹7,899.00             1.0  \n",
      "13              0                         1   ₹8,249.00             0.0  \n",
      "14              0                         0   ₹8,149.00             1.0  \n",
      "15              0                         1   ₹7,099.00             1.0  \n",
      "16              0                         1  ₹14,449.00             1.0  \n",
      "17              1                         0   ₹8,299.00             0.0  \n"
     ]
    }
   ],
   "source": [
    "# create an empty DataFrame to store the scraped data\n",
    "df = pd.DataFrame()\n",
    "\n",
    "# loop through the pages\n",
    "for page in range(1, 3): # modify the range based on the number of pages you want to scrape\n",
    "    # create the url\n",
    "    url = f'https://tyresnmore.com/all/car-tyres/toyota/innova.html?p={page}'\n",
    "\n",
    "    # navigate to the url\n",
    "    driver.get(url)\n",
    "    product = [i.text for i in driver.find_elements(By.XPATH, '//span[@class=\"product-list-name\"]')]\n",
    "    \n",
    "    company_name = [s.split()[0] for s in product]\n",
    "    df1 = pd.DataFrame({ 'Company': company_name,'Product': product})\n",
    "    \n",
    "    features = [fe.text.split('\\n\\n') for fe in driver.find_elements(By.XPATH, '//div[@class=\"clsProductFeature\"]')]\n",
    "\n",
    "    # create a set of unique features\n",
    "    unique_features = set([feature for product_features in features for feature in product_features])\n",
    "\n",
    "    # create an empty dictionary to store the encoded features\n",
    "    encoded_features = {feature: [] for feature in unique_features}\n",
    "\n",
    "    # encode the features\n",
    "    for product_features in features:\n",
    "        for feature in unique_features:\n",
    "            if feature in product_features:\n",
    "                encoded_features[feature].append(1)\n",
    "            else:\n",
    "                encoded_features[feature].append(0)\n",
    "                \n",
    "    #created another dataframe that contains product names and their corresponding encoded features\n",
    "    encoded_df = pd.DataFrame(encoded_features)\n",
    "    encoded_df.insert(0, \"Product\", product)\n",
    "\n",
    "    # merge this dataframe with the existing dataframe\n",
    "    merged_df = pd.merge(df1, encoded_df, on=\"Product\")\n",
    "    \n",
    "    # Find all prices\n",
    "    prices = driver.find_elements(By.XPATH, '//span[@class=\"amt_price price-final_price tax weee\"]')\n",
    "\n",
    "    new_price_list = []\n",
    "    for i in prices:\n",
    "        text = i.text\n",
    "        if 'Special Price' in text:\n",
    "            new_price_list.append('Special Price')\n",
    "            new_price_list.append(text.split(\"\\n\")[1])\n",
    "        else:\n",
    "            new_price_list.append(text)\n",
    "        \n",
    "    # new_list contain the original price and special price of each product. \n",
    "    # So we delete the original price if special price exist for any of the products.\n",
    "\n",
    "    i = 0\n",
    "    while i < len(new_price_list):\n",
    "        if new_price_list[i] == \"Special Price\":\n",
    "            del new_price_list[i-1:i+1]\n",
    "        else:\n",
    "            i += 1\n",
    "    merged_df['Price'] = new_price_list\n",
    "    \n",
    "    # append the merged_df to the main df\n",
    "    df = pd.concat([df, merged_df], ignore_index=True)\n",
    "    \n",
    "#replace all the null values with 0\n",
    "df = df.fillna(0)\n",
    "#convert BRIDGESTONE TO Bridgestone\n",
    "df.loc[df['Company'] == 'BRIDGESTONE', 'Company'] = 'Bridgestone'\n",
    "\n",
    "# print the final dataframe\n",
    "print(df)\n",
    "\n"
   ]
  },
  {
   "cell_type": "code",
   "execution_count": 5,
   "id": "a5b2b260",
   "metadata": {},
   "outputs": [],
   "source": [
    "#convert it into csv file\n",
    "df.to_csv('tyresnmore.csv', index=False)"
   ]
  },
  {
   "cell_type": "code",
   "execution_count": null,
   "id": "a705c87b",
   "metadata": {},
   "outputs": [],
   "source": []
  }
 ],
 "metadata": {
  "kernelspec": {
   "display_name": "Python 3 (ipykernel)",
   "language": "python",
   "name": "python3"
  },
  "language_info": {
   "codemirror_mode": {
    "name": "ipython",
    "version": 3
   },
   "file_extension": ".py",
   "mimetype": "text/x-python",
   "name": "python",
   "nbconvert_exporter": "python",
   "pygments_lexer": "ipython3",
   "version": "3.9.12"
  }
 },
 "nbformat": 4,
 "nbformat_minor": 5
}
